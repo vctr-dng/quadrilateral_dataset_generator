{
 "cells": [
  {
   "cell_type": "code",
   "execution_count": null,
   "metadata": {},
   "outputs": [],
   "source": [
    "import pandas as pd\n",
    "import numpy as np\n",
    "import torch\n",
    "from pathlib import Path\n",
    "from torch.nn.functional import normalize"
   ]
  },
  {
   "cell_type": "code",
   "execution_count": null,
   "metadata": {},
   "outputs": [],
   "source": [
    "img_labels = pd.read_csv('dataset/meta_data.csv', header=None)\n",
    "print(img_labels)\n",
    "print(len(img_labels))\n",
    "print(type(img_labels.loc[0,0]))"
   ]
  },
  {
   "cell_type": "code",
   "execution_count": null,
   "metadata": {},
   "outputs": [],
   "source": [
    "unpacked_coordinates = np.array(img_labels.loc[0, 1:], dtype = \"float\")\n",
    "unpacked_coordinates = unpacked_coordinates/256\n",
    "print(unpacked_coordinates)\n",
    "print(type(img_labels.loc[0, 1:].tolist()))"
   ]
  },
  {
   "cell_type": "code",
   "execution_count": null,
   "metadata": {},
   "outputs": [],
   "source": [
    "A = torch.Tensor([[2,2,2]])\n",
    "A_norm = normalize(A)\n",
    "print(A_norm)"
   ]
  },
  {
   "cell_type": "code",
   "execution_count": null,
   "metadata": {},
   "outputs": [],
   "source": [
    "n = 3\n",
    "el = 4\n",
    "\n",
    "l = np.array([range(1,1+n*el), range(1+n*el,1+2*n*el)])\n",
    "div = np.array([range(1,1+el)])\n",
    "#l = np.array([range(0,n*el)])\n",
    "print(l)\n",
    "print(l.shape)\n",
    "print(l[:, 4:5])\n",
    "for i in range(l.shape[-1]//el):\n",
    "    print(l[:, i*el:i*el+el]/div)\n",
    "    pass"
   ]
  },
  {
   "cell_type": "code",
   "execution_count": null,
   "metadata": {},
   "outputs": [],
   "source": [
    "ar = np.array([2,4])\n",
    "print(ar/[2,2])"
   ]
  },
  {
   "cell_type": "code",
   "execution_count": null,
   "metadata": {},
   "outputs": [],
   "source": [
    "path = Path(\"dataset\")/\"lol\"\n",
    "print(str(path))"
   ]
  },
  {
   "cell_type": "code",
   "execution_count": null,
   "metadata": {},
   "outputs": [],
   "source": [
    "ar1 = np.array([range(0,4), range(8,12)])\n",
    "ar2 = np.array([range(4,8), range(12,16)])\n",
    "arconca = np.concatenate((ar1,ar2), axis=-1)\n",
    "arempty = np.empty_like(arconca)\n",
    "print(ar1)\n",
    "print(ar2)\n",
    "print(arconca)\n",
    "print(arempty)"
   ]
  },
  {
   "cell_type": "code",
   "execution_count": null,
   "metadata": {},
   "outputs": [],
   "source": []
  }
 ],
 "metadata": {
  "kernelspec": {
   "display_name": "quadrilateral",
   "language": "python",
   "name": "python3"
  },
  "language_info": {
   "codemirror_mode": {
    "name": "ipython",
    "version": 3
   },
   "file_extension": ".py",
   "mimetype": "text/x-python",
   "name": "python",
   "nbconvert_exporter": "python",
   "pygments_lexer": "ipython3",
   "version": "3.9.13"
  },
  "orig_nbformat": 4,
  "vscode": {
   "interpreter": {
    "hash": "9d9dba6b629ce529083bc46d04944ec100ca46b9aa85f349bfa8cec896dc6c74"
   }
  }
 },
 "nbformat": 4,
 "nbformat_minor": 2
}
