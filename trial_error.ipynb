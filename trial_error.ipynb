{
 "cells": [
  {
   "cell_type": "code",
   "execution_count": null,
   "metadata": {},
   "outputs": [],
   "source": [
    "import pandas as pd\n",
    "import numpy as np\n",
    "import torch\n",
    "\n",
    "from torch.nn.functional import normalize"
   ]
  },
  {
   "cell_type": "code",
   "execution_count": null,
   "metadata": {},
   "outputs": [],
   "source": [
    "img_labels = pd.read_csv('dataset/meta_data.csv', header=None)\n",
    "print(img_labels)\n",
    "img_labels.rename(columns={0:\"Name\"}, inplace=True)\n",
    "print(img_labels)\n",
    "print(len(img_labels))"
   ]
  },
  {
   "cell_type": "code",
   "execution_count": null,
   "metadata": {},
   "outputs": [],
   "source": [
    "unpacked_coordinates = np.array(img_labels.loc[0, 1:], dtype = \"float\")\n",
    "unpacked_coordinates = unpacked_coordinates/256\n",
    "print(unpacked_coordinates)\n",
    "print(type(img_labels.loc[0, 1:].tolist()))"
   ]
  },
  {
   "cell_type": "code",
   "execution_count": null,
   "metadata": {},
   "outputs": [],
   "source": [
    "A = torch.Tensor([[2,2,2]])\n",
    "A_norm = normalize(A)\n",
    "print(A_norm)"
   ]
  },
  {
   "cell_type": "code",
   "execution_count": null,
   "metadata": {},
   "outputs": [],
   "source": [
    "n = 3\n",
    "el = 4\n",
    "\n",
    "l = np.array([range(0,n*el), range(n*el,2*n*el)])\n",
    "#l = np.array(range(0,n*el))\n",
    "print(l)\n",
    "print(l.shape)\n",
    "print(l[:, 4:5])\n",
    "for i in range(l.shape[-1]//el):\n",
    "    #print(l[i*el:i*el+el])\n",
    "    #print(l[i:])\n",
    "    pass"
   ]
  },
  {
   "cell_type": "code",
   "execution_count": null,
   "metadata": {},
   "outputs": [],
   "source": []
  }
 ],
 "metadata": {
  "kernelspec": {
   "display_name": "quadrilateral",
   "language": "python",
   "name": "python3"
  },
  "language_info": {
   "codemirror_mode": {
    "name": "ipython",
    "version": 3
   },
   "file_extension": ".py",
   "mimetype": "text/x-python",
   "name": "python",
   "nbconvert_exporter": "python",
   "pygments_lexer": "ipython3",
   "version": "3.9.13"
  },
  "orig_nbformat": 4,
  "vscode": {
   "interpreter": {
    "hash": "9d9dba6b629ce529083bc46d04944ec100ca46b9aa85f349bfa8cec896dc6c74"
   }
  }
 },
 "nbformat": 4,
 "nbformat_minor": 2
}
